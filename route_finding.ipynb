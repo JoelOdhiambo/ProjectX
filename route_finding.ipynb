{
 "metadata": {
  "language_info": {
   "codemirror_mode": {
    "name": "ipython",
    "version": 3
   },
   "file_extension": ".py",
   "mimetype": "text/x-python",
   "name": "python",
   "nbconvert_exporter": "python",
   "pygments_lexer": "ipython3",
   "version": "3.8.5-final"
  },
  "orig_nbformat": 2,
  "kernelspec": {
   "name": "Python 3.8.5 32-bit",
   "display_name": "Python 3.8.5 32-bit",
   "metadata": {
    "interpreter": {
     "hash": "9b469527eaf2b4d0a782c6b99e329ddbec584e6fa7eaf6972f896aabd87ad01e"
    }
   }
  }
 },
 "nbformat": 4,
 "nbformat_minor": 2,
 "cells": [
  {
   "cell_type": "code",
   "execution_count": 491,
   "metadata": {},
   "outputs": [],
   "source": [
    "import networkx as nx\n",
    "import matplotlib.pyplot as plt"
   ]
  },
  {
   "cell_type": "code",
   "execution_count": 531,
   "metadata": {},
   "outputs": [
    {
     "output_type": "stream",
     "name": "stdout",
     "text": [
      "450\n"
     ]
    }
   ],
   "source": [
    "G = nx.Graph()\n",
    "\n",
    "E = [(\"SportsComplex\", \"Siwaka\", {\"weight\": 450}), (\"Siwaka\", \"Ph.1B\", {\"weight\" : 230}), (\"Siwaka\", \"Ph.1A\", {\"weight\" : 10}), (\"Ph.1B\", \"Phase2\", {\"weight\": 112}), (\"Ph.1A\", \"Ph.1B\", {\"weight\": 100}), (\"Ph.1B\", \"STC\", {\"weight\" : 50}), (\"Ph.1A\", \"Ph.1B\", {\"weight\" : 100}), (\"Ph.1A\", \"Mada\", {\"weight\": 850}), (\"STC\", \"ParkingLot\", {\"weight\": 250}), (\"STC\", \"Phase2\", {\"weight\": 50}), (\"Phase2\", \"J1\", {\"weight\": 600}), (\"Phase2\", \"Phase3\", {\"weight\": 500}), (\"J1\", \"Mada\", {\"weight\": 200}), (\"Mada\", \"ParkingLot\", {\"weight\": 700 }), (\"Phase3\", \"ParkingLot\", {\"weight\": 350})]\n",
    "\n",
    "\n",
    "N = [\"SportsComplex\", \"Siwaka\", \"Ph.1A\", \"Ph.1B\", \"STC\", \"Phase2\", \"ParkingLot\", \"Phase3\", \"J1\", \"Mada\"]\n",
    "\n",
    "\n",
    "C = [(0, 10), (10, 10), (20, 10), (10, 5), (10, 2), (20, 5), (30, 0), (30, 3), (30, 5), (40, 5)]\n",
    "\n",
    "hlsd = [730, 405, 380, 280, 213, 210, 0, 160, 500, 630]\n",
    "\n",
    "P = { N[i] : v for i, v in enumerate(C) }\n",
    "hlsd_mapping = { N[i] : v for i, v in enumerate(hlsd) }\n",
    "\n",
    "G.add_nodes_from(N)\n",
    "G.add_edges_from(E)\n",
    "\n",
    "for k, l in P.items():\n",
    "    G.nodes[k]['pos'] = l\n",
    "\n",
    "print(G[\"SportsComplex\"][\"Siwaka\"][\"weight\"])\n",
    "\n"
   ]
  },
  {
   "cell_type": "code",
   "execution_count": 569,
   "metadata": {},
   "outputs": [],
   "source": [
    "class Traverser:\n",
    "\n",
    "    def __init__(self):\n",
    "        self.end_search = False\n",
    "        self.visited = []\n",
    "\n",
    "    def greedy(self, graph, start, destination):\n",
    "        queue = []\n",
    "        queue.append(start)\n",
    "        self.visited.append(start)\n",
    "        print(f'Starting from node -> {start}')\n",
    "\n",
    "        while len(queue) > 0 and not self.end_search:\n",
    "            min_stld = 99999\n",
    "            min_child = {}\n",
    "\n",
    "            current_node = queue.pop(0)\n",
    "\n",
    "            for child in list(graph.adj[current_node]):\n",
    "                if child is destination:\n",
    "                    print(f'Reached destination -> {child}')\n",
    "                    self.end_search = True\n",
    "                    self.visited.append(child)\n",
    "                    break\n",
    "                else:\n",
    "                  if hlsd_mapping[child] < min_stld:\n",
    "                      min_stld = hlsd_mapping[child]\n",
    "                      min_child = child\n",
    "                      self.visited.append(child)\n",
    "                            \n",
    "\n",
    "            if(not self.end_search):                    \n",
    "                queue.append(min_child)\n",
    "                print(f'Next item in queue -> {min_child}')\n",
    "        return self.visited\n",
    "                \n",
    "            \n",
    "\n",
    "\n",
    "    def ucs(self, G, start, destination):     \n",
    "        queue = []\n",
    "        queue.append(start)\n",
    "\n",
    "        self.visited = []\n",
    "        self.end_search = False\n",
    "        \n",
    "        self.visited.append(start)\n",
    "\n",
    "        print(f'Starting from node -> {start}')\n",
    "\n",
    "        while len(queue) > 0 and not self.end_search:\n",
    "            current_node = queue.pop(0)\n",
    "            max_dist = 99999\n",
    "            min_child = \"\"\n",
    "\n",
    "            if current_node is destination:\n",
    "                print(f'Reached destination -> {current_node}')\n",
    "                self.end_search = True\n",
    "                self.visited.append(current_node)\n",
    "                break\n",
    "            \n",
    "            for child in list(G.adj[current_node]):\n",
    "                    if current_node +  child and child + current_node not in self.visited:\n",
    "                        w = G[current_node][child][\"weight\"]\n",
    "                        if w < max_dist:\n",
    "                            max_dist = w\n",
    "                            min_child = child\n",
    "                            self.visited.append(current_node + child)                               \n",
    "            if(not self.end_search):      \n",
    "                queue.append(min_child)\n",
    "                print(f'Next item in queue -> {min_child}')\n",
    "        return self.visited\n",
    "                \n",
    "            \n"
   ]
  },
  {
   "cell_type": "code",
   "execution_count": 543,
   "metadata": {
    "tags": []
   },
   "outputs": [
    {
     "output_type": "stream",
     "name": "stdout",
     "text": [
      "Performing Greedy BFS:\nStarting from node -> SportsComplex\nNext item in queue -> Siwaka\nNext item in queue -> Ph.1B\nNext item in queue -> Phase2\nNext item in queue -> Phase3\nReached destination -> ParkingLot\n['SportsComplex', 'Siwaka', 'SportsComplex', 'Ph.1B', 'Siwaka', 'Phase2', 'Ph.1B', 'STC', 'Phase3', 'Phase2', 'ParkingLot']\n\n\n"
     ]
    }
   ],
   "source": [
    "t1 = Traverser()\n",
    "print('Performing Greedy BFS:')\n",
    "print(t1.greedy(G, \"SportsComplex\", \"ParkingLot\"))\n",
    "print('\\n')\n"
   ]
  },
  {
   "cell_type": "code",
   "execution_count": 570,
   "metadata": {
    "tags": []
   },
   "outputs": [
    {
     "output_type": "stream",
     "name": "stdout",
     "text": [
      "Starting UCS:\nStarting from node -> SportsComplex\nNext item in queue -> Siwaka\nNext item in queue -> Ph.1A\nNext item in queue -> Ph.1B\nNext item in queue -> STC\nNext item in queue -> Phase2\nNext item in queue -> Phase3\nNext item in queue -> ParkingLot\nReached destination -> ParkingLot\n['SportsComplex', 'SportsComplexSiwaka', 'SiwakaPh.1B', 'SiwakaPh.1A', 'Ph.1APh.1B', 'Ph.1BPhase2', 'Ph.1BSTC', 'STCParkingLot', 'STCPhase2', 'Phase2J1', 'Phase2Phase3', 'Phase3ParkingLot', 'ParkingLot']\n\nEnd UCS\n"
     ]
    }
   ],
   "source": [
    "t2 = Traverser()\n",
    "print('Starting UCS:')\n",
    "print(t2.ucs(G, \"SportsComplex\", \"ParkingLot\"))\n",
    "print('\\nEnd UCS')"
   ]
  },
  {
   "cell_type": "code",
   "execution_count": null,
   "metadata": {},
   "outputs": [],
   "source": [
    "positions = nx.get_node_attributes(G, 'pos')\n",
    "labels = nx.get_edge_attributes(G, 'weight')\n",
    "\n",
    "\n",
    "nx.draw_networkx(G, positions, node_size = 350)\n",
    "nx.draw_networkx_edges(G, positions)\n",
    "nx.draw_networkx_edge_labels(G, positions, edge_labels = labels)\n",
    "plt.axis('off')\n",
    "plt.show()"
   ]
  },
  {
   "cell_type": "code",
   "execution_count": null,
   "metadata": {},
   "outputs": [],
   "source": []
  }
 ]
}